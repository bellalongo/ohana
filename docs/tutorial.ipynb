{
 "cells": [
  {
   "cell_type": "markdown",
   "id": "c8f845d0",
   "metadata": {},
   "source": [
    "### Quickstart Tutorial: Using the `ohana` Predictor\n",
    "\n",
    "This notebook demonstrates the standard, high-level way to run anomaly detection using the `ohana` package. This is the recommended workflow for most use cases.\n",
    "\n",
    "We will use the main `Predictor` class, which handles all the complex steps internally. The process is simple:\n",
    "1.  Configure paths and settings.\n",
    "2.  Initialize the `Predictor`.\n",
    "3.  Run the `predict` method.\n",
    "4.  Visualize the results."
   ]
  },
  {
   "cell_type": "markdown",
   "id": "aab50009",
   "metadata": {},
   "source": [
    "##### Step 1: Imports and Configuration\n",
    "\n",
    "First, we'll import the necessary classes and define the paths for our model, data, and output files."
   ]
  },
  {
   "cell_type": "code",
   "execution_count": null,
   "id": "b44b48d0",
   "metadata": {},
   "outputs": [
    {
     "name": "stdout",
     "output_type": "stream",
     "text": [
      "Setting PyTorch to use 16 threads.\n"
     ]
    }
   ],
   "source": [
    "import torch\n",
    "import os\n",
    "import json\n",
    "import numpy as np\n",
    "import sys"
   ]
  },
  {
   "cell_type": "code",
   "execution_count": 2,
   "id": "32c5c075",
   "metadata": {},
   "outputs": [
    {
     "name": "stdout",
     "output_type": "stream",
     "text": [
      "Setting PyTorch to use 16 threads.\n"
     ]
    }
   ],
   "source": [
    "print(f\"Setting PyTorch to use {os.cpu_count() or 8} threads.\")\n",
    "torch.set_num_threads(os.cpu_count() or 8)\n",
    "os.environ[\"OMP_NUM_THREADS\"] = str(os.cpu_count() or 8)\n",
    "os.environ[\"MKL_NUM_THREADS\"] = str(os.cpu_count() or 8)"
   ]
  },
  {
   "cell_type": "code",
   "execution_count": 3,
   "id": "1501c419",
   "metadata": {},
   "outputs": [],
   "source": [
    "sys.path.insert(0, '../')"
   ]
  },
  {
   "cell_type": "code",
   "execution_count": 4,
   "id": "5e72fee4",
   "metadata": {},
   "outputs": [],
   "source": [
    "# Import the necessary classes from your ohana package\n",
    "# !NOTE: Make sure the 'ohana' directory is in your Python path\n",
    "\n",
    "from ohana.models.unet_3d import UNet3D\n",
    "from ohana.predict.predictor import Predictor\n",
    "from ohana.preprocessing.data_loader import DataLoader\n",
    "from ohana.preprocessing.preprocessor import Preprocessor\n",
    "from ohana.visualization.plotter import ResultVisualizer"
   ]
  },
  {
   "cell_type": "code",
   "execution_count": 5,
   "id": "06248037",
   "metadata": {},
   "outputs": [],
   "source": [
    "\"\"\" Configuration \"\"\"\n",
    "# !NOTE: Replace these with the actual paths to your files.\n",
    "\n",
    "# Path to the trained model\n",
    "MODEL_PATH = \"../trained_models/old_best_model_unet3d.pth\"\n",
    "\n",
    "# Path to the config file that was used for model training\n",
    "CONFIG_PATH = \"../configs/creator_config.yaml\"\n",
    "\n",
    "# Path to the exposure you want to run the predictions on\n",
    "EXPOSURE_PATH = \"/Volumes/jwst/ilongo/raw_data/18220_Euclid_SCA/ap30_100k_0p8m0p3_fullnoi_E001_18220.fits\"\n",
    "\n",
    "# Path to where the processed exposure is saved to (MUST BE .NPY)\n",
    "PROCESSED_EXPOSURE_FILE = 'tut_processed_ap30_100k_0p8m0p3_fullnoi_E001_18220.npy'\n",
    "\n",
    "# Directory where model predictions will be stored\n",
    "OUTPUT_DIR = \"tut_prediction_outputs\"\n",
    "\n",
    "# Where processed exposure will be saved\n",
    "PROCESSED_DATA_PATH = os.path.join(OUTPUT_DIR, PROCESSED_EXPOSURE_FILE)\n",
    "\n",
    "# Where prediction mask with be saved\n",
    "MASK_PATH = os.path.join(OUTPUT_DIR, 'prediction_mask.npy')\n",
    "\n",
    "# Where detections will be saved\n",
    "DETECTIONS_PATH = os.path.join(OUTPUT_DIR, 'detections.json')"
   ]
  },
  {
   "cell_type": "code",
   "execution_count": 6,
   "id": "98a07639",
   "metadata": {},
   "outputs": [
    {
     "name": "stdout",
     "output_type": "stream",
     "text": [
      "Using device: cpu\n"
     ]
    }
   ],
   "source": [
    "# Create output directory if it doesn't exist\n",
    "os.makedirs(OUTPUT_DIR, exist_ok=True)\n",
    "\n",
    "# Check for GPU\n",
    "device = torch.device(\"cuda\" if torch.cuda.is_available() else \"cpu\")\n",
    "print(f\"Using device: {device}\")"
   ]
  },
  {
   "cell_type": "markdown",
   "id": "0df0d026",
   "metadata": {},
   "source": [
    "##### Step 2: Run the Prediction\n",
    "\n",
    "This is the core of the workflow. We create an instance of the `Predictor` class and call the `.predict()` method. The class will handle loading the model, preprocessing the data (and caching it), running inference, and finding objects."
   ]
  },
  {
   "cell_type": "code",
   "execution_count": 7,
   "id": "65c99458",
   "metadata": {},
   "outputs": [
    {
     "name": "stdout",
     "output_type": "stream",
     "text": [
      "Initializing the predictor...\n",
      "ReferencePixelCorrector initialized with x_opt=64, y_opt=4.\n",
      "Preprocessor initialized. Reference pixel correction: Enabled.\n",
      "Loading 3D U-Net model from: ../trained_models/old_best_model_unet3d.pth\n"
     ]
    }
   ],
   "source": [
    "\"\"\"Initialize the predictor\"\"\"\n",
    "# This loads the model and sets up the configuration.\n",
    "print(\"Initializing the predictor...\")\n",
    "predictor = Predictor(model_path=MODEL_PATH, config_path=CONFIG_PATH)"
   ]
  },
  {
   "cell_type": "code",
   "execution_count": null,
   "id": "120bdd86",
   "metadata": {},
   "outputs": [
    {
     "name": "stdout",
     "output_type": "stream",
     "text": [
      "Running prediction on /Volumes/jwst/ilongo/raw_data/18220_Euclid_SCA/ap30_100k_0p8m0p3_fullnoi_E001_18220.fits...\n",
      "\n",
      "--- Analyzing exposure: /Volumes/jwst/ilongo/raw_data/18220_Euclid_SCA/ap30_100k_0p8m0p3_fullnoi_E001_18220.fits ---\n",
      "Loading data from Multi-Extension FITS file: /Volumes/jwst/ilongo/raw_data/18220_Euclid_SCA/ap30_100k_0p8m0p3_fullnoi_E001_18220.fits\n"
     ]
    },
    {
     "name": "stderr",
     "output_type": "stream",
     "text": [
      "Loading FITS extensions: 100%|██████████| 450/450 [06:36<00:00,  1.13it/s]\n"
     ]
    }
   ],
   "source": [
    "\"\"\"Run the prediction\"\"\"\n",
    "# The predict method handles the entire pipeline and saves the processed data cube.\n",
    "print(f\"Running prediction on {EXPOSURE_PATH}...\")\n",
    "anomalies = predictor.predict(\n",
    "    exposure_path=EXPOSURE_PATH,\n",
    "    processed_exposure_file=PROCESSED_DATA_PATH\n",
    ")"
   ]
  },
  {
   "cell_type": "code",
   "execution_count": null,
   "id": "cc1b098a",
   "metadata": {},
   "outputs": [],
   "source": [
    "\"\"\"Save the remaining results\"\"\"\n",
    "# The predictor object now holds the final mask as an attribute.\n",
    "if predictor.prediction_mask is not None:\n",
    "    np.save(MASK_PATH, predictor.prediction_mask)\n",
    "    print(f\"Saved prediction mask to: {MASK_PATH}\")"
   ]
  },
  {
   "cell_type": "code",
   "execution_count": null,
   "id": "19f70820",
   "metadata": {},
   "outputs": [],
   "source": [
    "with open(DETECTIONS_PATH, 'w') as f:\n",
    "    json.dump(anomalies, f, indent=4)\n",
    "    print(f\"Saved anomaly list to: {DETECTIONS_PATH}\")\n",
    "\n",
    "print(f\"\\nPrediction complete! Found {len(anomalies)} anomalies.\")"
   ]
  },
  {
   "cell_type": "markdown",
   "id": "d04e97f4",
   "metadata": {},
   "source": [
    "##### Step 3: Visualize the Results\n",
    "\n",
    "Now that the prediction is done and all output files are saved, we can use the `ResultVisualizer` to see the outcome."
   ]
  },
  {
   "cell_type": "code",
   "execution_count": null,
   "id": "f7566e22",
   "metadata": {},
   "outputs": [],
   "source": [
    "print(\"Generating visualization...\")\n",
    "\n",
    "# Initialize the visualizer with the paths to our saved results\n",
    "visualizer = ResultVisualizer(\n",
    "    processed_data_path=PROCESSED_DATA_PATH,\n",
    "    prediction_mask_path=MASK_PATH\n",
    ")\n",
    "\n",
    "# Load the list of detected anomalies\n",
    "visualizer.load_detection_list(results_path=DETECTIONS_PATH)\n",
    "\n",
    "# Generate and display the plot\n",
    "visualizer.plot_full_mask_overlay()"
   ]
  }
 ],
 "metadata": {
  "kernelspec": {
   "display_name": "jpl_env",
   "language": "python",
   "name": "python3"
  },
  "language_info": {
   "codemirror_mode": {
    "name": "ipython",
    "version": 3
   },
   "file_extension": ".py",
   "mimetype": "text/x-python",
   "name": "python",
   "nbconvert_exporter": "python",
   "pygments_lexer": "ipython3",
   "version": "3.11.13"
  }
 },
 "nbformat": 4,
 "nbformat_minor": 5
}
